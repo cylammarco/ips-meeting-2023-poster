{
 "cells": [
  {
   "cell_type": "code",
   "execution_count": 1,
   "id": "042a3e02",
   "metadata": {},
   "outputs": [],
   "source": [
    "import ipyaladin.aladin_widget as ipyal\n",
    "from ipywidgets import Layout\n",
    "import time"
   ]
  },
  {
   "cell_type": "code",
   "execution_count": 2,
   "id": "c92fa313",
   "metadata": {},
   "outputs": [],
   "source": [
    "box_layout = Layout(width='400px', height='500px')\n",
    "target = \"18 15 27.57 +31 58 52.17\"\n",
    "aladin_list = []\n",
    "survey_list = [\n",
    "    \"P/PanSTARRS/DR1/color-z-zg-g\",\n",
    "    \"P/Skymapper-color-IRG\",\n",
    "    \"P/DSS2/color\",\n",
    "    \"P/2MASS/color\",\n",
    "    \"P/unWISE/color-W2-W1W2-W1\"    \n",
    "]"
   ]
  },
  {
   "cell_type": "code",
   "execution_count": 3,
   "id": "a45cfcc0",
   "metadata": {},
   "outputs": [],
   "source": [
    "for s in survey_list:\n",
    "    aladin_list.append(\n",
    "        ipyal.Aladin(\n",
    "            target=target,\n",
    "            survey=s,\n",
    "            fov=1/60/2,\n",
    "            layout=box_layout\n",
    "        )\n",
    "    )"
   ]
  },
  {
   "cell_type": "code",
   "execution_count": 4,
   "id": "14155284",
   "metadata": {
    "scrolled": false
   },
   "outputs": [
    {
     "data": {
      "application/vnd.jupyter.widget-view+json": {
       "model_id": "b50338a6e94047ed8a5f0afc6f9ad171",
       "version_major": 2,
       "version_minor": 0
      },
      "text/plain": [
       "Aladin(fov=0.008333333333333333, layout=Layout(height='500px', width='400px'), options=['allow_full_zoomout', …"
      ]
     },
     "execution_count": 4,
     "metadata": {},
     "output_type": "execute_result"
    }
   ],
   "source": [
    "aladin_list[0]"
   ]
  },
  {
   "cell_type": "code",
   "execution_count": 5,
   "id": "ed411105",
   "metadata": {},
   "outputs": [
    {
     "data": {
      "application/vnd.jupyter.widget-view+json": {
       "model_id": "3aa7802afd5c4e8ca80ff16366eb08ea",
       "version_major": 2,
       "version_minor": 0
      },
      "text/plain": [
       "Aladin(fov=0.008333333333333333, layout=Layout(height='500px', width='400px'), options=['allow_full_zoomout', …"
      ]
     },
     "execution_count": 5,
     "metadata": {},
     "output_type": "execute_result"
    }
   ],
   "source": [
    "aladin_list[1]"
   ]
  },
  {
   "cell_type": "code",
   "execution_count": 6,
   "id": "329f9e1d",
   "metadata": {},
   "outputs": [
    {
     "data": {
      "application/vnd.jupyter.widget-view+json": {
       "model_id": "5465bd0246e34c86afad494b1390a7bd",
       "version_major": 2,
       "version_minor": 0
      },
      "text/plain": [
       "Aladin(fov=0.008333333333333333, layout=Layout(height='500px', width='400px'), options=['allow_full_zoomout', …"
      ]
     },
     "execution_count": 6,
     "metadata": {},
     "output_type": "execute_result"
    }
   ],
   "source": [
    "aladin_list[2]"
   ]
  },
  {
   "cell_type": "code",
   "execution_count": 7,
   "id": "856e7d5c",
   "metadata": {},
   "outputs": [
    {
     "data": {
      "application/vnd.jupyter.widget-view+json": {
       "model_id": "f34f63223bdb4a5b8557f048cf51e3d5",
       "version_major": 2,
       "version_minor": 0
      },
      "text/plain": [
       "Aladin(fov=0.008333333333333333, layout=Layout(height='500px', width='400px'), options=['allow_full_zoomout', …"
      ]
     },
     "execution_count": 7,
     "metadata": {},
     "output_type": "execute_result"
    }
   ],
   "source": [
    "aladin_list[3]"
   ]
  },
  {
   "cell_type": "code",
   "execution_count": 8,
   "id": "a8ed3d03",
   "metadata": {},
   "outputs": [
    {
     "data": {
      "application/vnd.jupyter.widget-view+json": {
       "model_id": "d01326827e7840ab8e4ba1c5d623b529",
       "version_major": 2,
       "version_minor": 0
      },
      "text/plain": [
       "Aladin(fov=0.008333333333333333, layout=Layout(height='500px', width='400px'), options=['allow_full_zoomout', …"
      ]
     },
     "execution_count": 8,
     "metadata": {},
     "output_type": "execute_result"
    }
   ],
   "source": [
    "aladin_list[4]"
   ]
  },
  {
   "cell_type": "code",
   "execution_count": 9,
   "id": "9131bd9d",
   "metadata": {},
   "outputs": [
    {
     "name": "stdout",
     "output_type": "stream",
     "text": [
      "Up\n"
     ]
    }
   ],
   "source": [
    "time.sleep(5)\n",
    "print('Up')"
   ]
  },
  {
   "cell_type": "code",
   "execution_count": 15,
   "id": "511de148",
   "metadata": {},
   "outputs": [],
   "source": [
    "aladin_list[0].get_JPEG_thumbnail()"
   ]
  },
  {
   "cell_type": "code",
   "execution_count": 16,
   "id": "6c1cf754",
   "metadata": {},
   "outputs": [],
   "source": [
    "aladin_list[1].get_JPEG_thumbnail()"
   ]
  },
  {
   "cell_type": "code",
   "execution_count": 20,
   "id": "5fe91f2b",
   "metadata": {},
   "outputs": [],
   "source": [
    "aladin_list[2].get_JPEG_thumbnail()"
   ]
  },
  {
   "cell_type": "code",
   "execution_count": 21,
   "id": "e1e88359",
   "metadata": {},
   "outputs": [],
   "source": [
    "aladin_list[3].get_JPEG_thumbnail()"
   ]
  },
  {
   "cell_type": "code",
   "execution_count": 22,
   "id": "4d705ecc",
   "metadata": {},
   "outputs": [],
   "source": [
    "aladin_list[4].get_JPEG_thumbnail()"
   ]
  }
 ],
 "metadata": {
  "kernelspec": {
   "display_name": "Python 3 (ipykernel)",
   "language": "python",
   "name": "python3"
  },
  "language_info": {
   "codemirror_mode": {
    "name": "ipython",
    "version": 3
   },
   "file_extension": ".py",
   "mimetype": "text/x-python",
   "name": "python",
   "nbconvert_exporter": "python",
   "pygments_lexer": "ipython3",
   "version": "3.10.8"
  }
 },
 "nbformat": 4,
 "nbformat_minor": 5
}
